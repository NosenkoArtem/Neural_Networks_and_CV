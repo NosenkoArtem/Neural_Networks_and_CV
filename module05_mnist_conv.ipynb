{
  "nbformat": 4,
  "nbformat_minor": 0,
  "metadata": {
    "accelerator": "GPU",
    "colab": {
      "name": "Copy of Lesson 6 Digits Recognition Convolutional Video.ipynb",
      "provenance": [],
      "collapsed_sections": [],
      "include_colab_link": true
    },
    "kernelspec": {
      "display_name": "Python 3",
      "language": "python",
      "name": "python3"
    },
    "language_info": {
      "codemirror_mode": {
        "name": "ipython",
        "version": 3
      },
      "file_extension": ".py",
      "mimetype": "text/x-python",
      "name": "python",
      "nbconvert_exporter": "python",
      "pygments_lexer": "ipython3",
      "version": "3.6.8"
    }
  },
  "cells": [
    {
      "cell_type": "markdown",
      "metadata": {
        "id": "view-in-github",
        "colab_type": "text"
      },
      "source": [
        "<a href=\"https://colab.research.google.com/github/NosenkoArtem/Neural_Networks_and_CV/blob/master/module05_mnist_conv.ipynb\" target=\"_parent\"><img src=\"https://colab.research.google.com/assets/colab-badge.svg\" alt=\"Open In Colab\"/></a>"
      ]
    },
    {
      "cell_type": "markdown",
      "metadata": {
        "colab_type": "text",
        "id": "cdjn6pICZMoM"
      },
      "source": [
        "![alt text](https://engmrk.com/wp-content/uploads/2018/09/LeNet_Original_Image.jpg)"
      ]
    },
    {
      "cell_type": "markdown",
      "metadata": {
        "colab_type": "text",
        "id": "14icu4JgZXqM"
      },
      "source": [
        "![alt text](https://engmrk.com/wp-content/uploads/2018/09/LeNEt_Summary_Table.jpg)"
      ]
    },
    {
      "cell_type": "code",
      "metadata": {
        "colab_type": "code",
        "id": "85_HkTjcNZeg",
        "colab": {}
      },
      "source": [
        "import torch\n",
        "import random\n",
        "import numpy as np\n",
        "\n",
        "random.seed(0)\n",
        "np.random.seed(0)\n",
        "torch.manual_seed(0)\n",
        "torch.cuda.manual_seed(0)\n",
        "torch.backends.cudnn.deterministic = True"
      ],
      "execution_count": 0,
      "outputs": []
    },
    {
      "cell_type": "code",
      "metadata": {
        "colab_type": "code",
        "id": "kjPVw9UfNZel",
        "colab": {}
      },
      "source": [
        "import torchvision.datasets"
      ],
      "execution_count": 0,
      "outputs": []
    },
    {
      "cell_type": "code",
      "metadata": {
        "colab_type": "code",
        "id": "buWKcUqGNZeo",
        "colab": {}
      },
      "source": [
        "MNIST_train = torchvision.datasets.MNIST('./', download=True, train=True)\n",
        "MNIST_test = torchvision.datasets.MNIST('./', download=True, train=False)\n"
      ],
      "execution_count": 0,
      "outputs": []
    },
    {
      "cell_type": "code",
      "metadata": {
        "colab_type": "code",
        "id": "nyrpGOtPNZeq",
        "outputId": "77fa7400-c25f-4982-dd5c-04f66ff39094",
        "colab": {
          "base_uri": "https://localhost:8080/",
          "height": 150
        }
      },
      "source": [
        "X_train = MNIST_train.train_data\n",
        "y_train = MNIST_train.train_labels\n",
        "X_test = MNIST_test.test_data\n",
        "y_test = MNIST_test.test_labels"
      ],
      "execution_count": 4,
      "outputs": [
        {
          "output_type": "stream",
          "text": [
            "/usr/local/lib/python3.6/dist-packages/torchvision/datasets/mnist.py:55: UserWarning: train_data has been renamed data\n",
            "  warnings.warn(\"train_data has been renamed data\")\n",
            "/usr/local/lib/python3.6/dist-packages/torchvision/datasets/mnist.py:45: UserWarning: train_labels has been renamed targets\n",
            "  warnings.warn(\"train_labels has been renamed targets\")\n",
            "/usr/local/lib/python3.6/dist-packages/torchvision/datasets/mnist.py:60: UserWarning: test_data has been renamed data\n",
            "  warnings.warn(\"test_data has been renamed data\")\n",
            "/usr/local/lib/python3.6/dist-packages/torchvision/datasets/mnist.py:50: UserWarning: test_labels has been renamed targets\n",
            "  warnings.warn(\"test_labels has been renamed targets\")\n"
          ],
          "name": "stderr"
        }
      ]
    },
    {
      "cell_type": "code",
      "metadata": {
        "colab_type": "code",
        "id": "f_TmOTWdNZet",
        "outputId": "a3829225-40e5-4936-dfbd-5f9550026b5f",
        "colab": {
          "base_uri": "https://localhost:8080/",
          "height": 33
        }
      },
      "source": [
        "len(y_train), len(y_test)"
      ],
      "execution_count": 5,
      "outputs": [
        {
          "output_type": "execute_result",
          "data": {
            "text/plain": [
              "(60000, 10000)"
            ]
          },
          "metadata": {
            "tags": []
          },
          "execution_count": 5
        }
      ]
    },
    {
      "cell_type": "code",
      "metadata": {
        "colab_type": "code",
        "id": "Zd-E4vIpNZe1",
        "outputId": "6d6ca339-b6dc-4ddd-8ab3-8ef26f48dc42",
        "colab": {
          "base_uri": "https://localhost:8080/",
          "height": 282
        }
      },
      "source": [
        "import matplotlib.pyplot as plt\n",
        "plt.imshow(X_train[0, :, :])\n",
        "plt.show()\n",
        "print(y_train[0])"
      ],
      "execution_count": 6,
      "outputs": [
        {
          "output_type": "display_data",
          "data": {
            "image/png": "[encoded data removed]",
            "text/plain": [
              "<Figure size 432x288 with 1 Axes>"
            ]
          },
          "metadata": {
            "tags": []
          }
        },
        {
          "output_type": "stream",
          "text": [
            "tensor(5)\n"
          ],
          "name": "stdout"
        }
      ]
    },
    {
      "cell_type": "code",
      "metadata": {
        "colab_type": "code",
        "id": "Tf9LiDGuNZe6",
        "colab": {}
      },
      "source": [
        "X_train = X_train.unsqueeze(1).float()\n",
        "X_test = X_test.unsqueeze(1).float()"
      ],
      "execution_count": 0,
      "outputs": []
    },
    {
      "cell_type": "code",
      "metadata": {
        "colab_type": "code",
        "id": "kxKAhEYHNZe-",
        "outputId": "1613f77b-837a-45a5-80cb-5a397c64ffc5",
        "colab": {
          "base_uri": "https://localhost:8080/",
          "height": 33
        }
      },
      "source": [
        "X_train.shape"
      ],
      "execution_count": 8,
      "outputs": [
        {
          "output_type": "execute_result",
          "data": {
            "text/plain": [
              "torch.Size([60000, 1, 28, 28])"
            ]
          },
          "metadata": {
            "tags": []
          },
          "execution_count": 8
        }
      ]
    },
    {
      "cell_type": "code",
      "metadata": {
        "colab_type": "code",
        "id": "xhsw9soDODel",
        "colab": {}
      },
      "source": [
        "class LeNet5(torch.nn.Module):\n",
        "    def __init__(self):\n",
        "        super(LeNet5, self).__init__()\n",
        "        \n",
        "        self.conv1 = torch.nn.Conv2d(\n",
        "            in_channels=1, out_channels=6, kernel_size=5, padding=2)\n",
        "        self.act1  = torch.nn.ReLU()\n",
        "        self.pool1 = torch.nn.AvgPool2d(kernel_size=2, stride=2)\n",
        "       \n",
        "        self.conv2 = torch.nn.Conv2d(\n",
        "            in_channels=6, out_channels=16, kernel_size=5, padding=0)\n",
        "        self.act2  = torch.nn.ReLU()\n",
        "        self.pool2 = torch.nn.AvgPool2d(kernel_size=2, stride=2)\n",
        "        \n",
        "        self.fc1   = torch.nn.Linear(5 * 5 * 16, 120)\n",
        "        self.act3  = torch.nn.ReLU()\n",
        "        \n",
        "        self.fc2   = torch.nn.Linear(120, 84)\n",
        "        self.act4  = torch.nn.ReLU()\n",
        "        \n",
        "        self.fc3   = torch.nn.Linear(84, 10)\n",
        "    \n",
        "    def forward(self, x):\n",
        "        \n",
        "        x = self.conv1(x)\n",
        "        x = self.act1(x)\n",
        "        x = self.pool1(x)\n",
        "        \n",
        "        x = self.conv2(x)\n",
        "        x = self.act2(x)\n",
        "        x = self.pool2(x)\n",
        "        \n",
        "        x = x.view(x.size(0), x.size(1) * x.size(2) * x.size(3))\n",
        "\n",
        "        x = self.fc1(x)\n",
        "        x = self.act3(x)\n",
        "        x = self.fc2(x)\n",
        "        x = self.act4(x)\n",
        "        x = self.fc3(x)\n",
        "        \n",
        "        return x\n",
        "    \n",
        "lenet5 = LeNet5()"
      ],
      "execution_count": 0,
      "outputs": []
    },
    {
      "cell_type": "code",
      "metadata": {
        "colab_type": "code",
        "id": "qT-PsO7VNZfB",
        "colab": {}
      },
      "source": [
        "device = torch.device('cuda:0' if torch.cuda.is_available() else 'cpu')\n",
        "lenet5 = lenet5.to(device)"
      ],
      "execution_count": 0,
      "outputs": []
    },
    {
      "cell_type": "code",
      "metadata": {
        "colab_type": "code",
        "id": "rkK0kv1VNZfL",
        "colab": {}
      },
      "source": [
        "loss = torch.nn.CrossEntropyLoss()\n",
        "optimizer = torch.optim.SGD(lenet5.parameters(), lr=5.0e-3, momentum=0.7)\n",
        "scheduler = torch.optim.lr_scheduler.CyclicLR(optimizer, base_lr=1.0e-3, max_lr=0.1, mode='exp_range')"
      ],
      "execution_count": 0,
      "outputs": []
    },
    {
      "cell_type": "code",
      "metadata": {
        "colab_type": "code",
        "id": "XfA9gqSdNZfQ",
        "outputId": "9af51e5a-4c1a-4ce0-a734-6b23dee63400",
        "colab": {
          "base_uri": "https://localhost:8080/",
          "height": 1000
        }
      },
      "source": [
        "batch_size = 800\n",
        "\n",
        "train_accuracy_history = []\n",
        "train_loss_history = []\n",
        "\n",
        "test_accuracy_history = []\n",
        "test_loss_history = []\n",
        "\n",
        "X_train = X_train.to(device)\n",
        "y_train = y_train.to(device)\n",
        "\n",
        "X_test = X_test.to(device)\n",
        "y_test = y_test.to(device)\n",
        "\n",
        "for epoch in range(160):\n",
        "    order = np.random.permutation(len(X_train))\n",
        "    for start_index in range(0, len(X_train), batch_size):\n",
        "        optimizer.zero_grad()\n",
        "        \n",
        "        batch_indexes = order[start_index:start_index+batch_size]\n",
        "        \n",
        "        X_batch = X_train[batch_indexes].to(device)\n",
        "        y_batch = y_train[batch_indexes].to(device)\n",
        "        \n",
        "        preds = lenet5.forward(X_batch) \n",
        "        \n",
        "        loss_value = loss(preds, y_batch)\n",
        "        loss_value.backward()\n",
        "\n",
        "        optimizer.step()\n",
        "        scheduler.step()\n",
        "\n",
        "    train_preds = lenet5.forward(X_train)\n",
        "    train_loss_history.append(loss(train_preds, y_train).data.cpu())\n",
        "\n",
        "    test_preds = lenet5.forward(X_test)\n",
        "    test_loss_history.append(loss(test_preds, y_test).data.cpu())\n",
        "    \n",
        "    accuracy = (train_preds.argmax(dim=1) == y_train).float().mean().data.cpu()\n",
        "    train_accuracy_history.append(accuracy)\n",
        "\n",
        "    accuracy = (test_preds.argmax(dim=1) == y_test).float().mean().data.cpu()\n",
        "    test_accuracy_history.append(accuracy)\n",
        "    \n",
        "    print(accuracy)"
      ],
      "execution_count": 12,
      "outputs": [
        {
          "output_type": "stream",
          "text": [
            "tensor(0.9386)\n",
            "tensor(0.9679)\n",
            "tensor(0.9745)\n",
            "tensor(0.9799)\n",
            "tensor(0.9817)\n",
            "tensor(0.9828)\n",
            "tensor(0.9851)\n",
            "tensor(0.9882)\n",
            "tensor(0.9890)\n",
            "tensor(0.9844)\n",
            "tensor(0.9875)\n",
            "tensor(0.9893)\n",
            "tensor(0.9900)\n",
            "tensor(0.9855)\n",
            "tensor(0.9884)\n",
            "tensor(0.9892)\n",
            "tensor(0.9871)\n",
            "tensor(0.9903)\n",
            "tensor(0.9858)\n",
            "tensor(0.9886)\n",
            "tensor(0.9890)\n",
            "tensor(0.9870)\n",
            "tensor(0.9854)\n",
            "tensor(0.9888)\n",
            "tensor(0.9897)\n",
            "tensor(0.9900)\n",
            "tensor(0.9883)\n",
            "tensor(0.9863)\n",
            "tensor(0.9903)\n",
            "tensor(0.9905)\n",
            "tensor(0.9892)\n",
            "tensor(0.9901)\n",
            "tensor(0.9901)\n",
            "tensor(0.9920)\n",
            "tensor(0.9913)\n",
            "tensor(0.9921)\n",
            "tensor(0.9924)\n",
            "tensor(0.9922)\n",
            "tensor(0.9921)\n",
            "tensor(0.9920)\n",
            "tensor(0.9922)\n",
            "tensor(0.9919)\n",
            "tensor(0.9919)\n",
            "tensor(0.9921)\n",
            "tensor(0.9923)\n",
            "tensor(0.9923)\n",
            "tensor(0.9923)\n",
            "tensor(0.9923)\n",
            "tensor(0.9923)\n",
            "tensor(0.9923)\n",
            "tensor(0.9923)\n",
            "tensor(0.9923)\n",
            "tensor(0.9923)\n",
            "tensor(0.9923)\n",
            "tensor(0.9923)\n",
            "tensor(0.9923)\n",
            "tensor(0.9923)\n",
            "tensor(0.9921)\n",
            "tensor(0.9921)\n",
            "tensor(0.9921)\n",
            "tensor(0.9921)\n",
            "tensor(0.9921)\n",
            "tensor(0.9921)\n",
            "tensor(0.9921)\n",
            "tensor(0.9921)\n",
            "tensor(0.9921)\n",
            "tensor(0.9921)\n",
            "tensor(0.9921)\n",
            "tensor(0.9921)\n",
            "tensor(0.9921)\n",
            "tensor(0.9921)\n",
            "tensor(0.9920)\n",
            "tensor(0.9920)\n",
            "tensor(0.9920)\n",
            "tensor(0.9920)\n",
            "tensor(0.9920)\n",
            "tensor(0.9920)\n",
            "tensor(0.9920)\n",
            "tensor(0.9920)\n",
            "tensor(0.9920)\n",
            "tensor(0.9920)\n",
            "tensor(0.9919)\n",
            "tensor(0.9919)\n",
            "tensor(0.9919)\n",
            "tensor(0.9919)\n",
            "tensor(0.9919)\n",
            "tensor(0.9919)\n",
            "tensor(0.9920)\n",
            "tensor(0.9920)\n",
            "tensor(0.9920)\n",
            "tensor(0.9920)\n",
            "tensor(0.9920)\n",
            "tensor(0.9920)\n",
            "tensor(0.9920)\n",
            "tensor(0.9920)\n",
            "tensor(0.9920)\n",
            "tensor(0.9920)\n",
            "tensor(0.9920)\n",
            "tensor(0.9920)\n",
            "tensor(0.9920)\n",
            "tensor(0.9920)\n",
            "tensor(0.9920)\n",
            "tensor(0.9920)\n",
            "tensor(0.9920)\n",
            "tensor(0.9920)\n",
            "tensor(0.9920)\n",
            "tensor(0.9920)\n",
            "tensor(0.9920)\n",
            "tensor(0.9920)\n",
            "tensor(0.9921)\n",
            "tensor(0.9921)\n",
            "tensor(0.9921)\n",
            "tensor(0.9921)\n",
            "tensor(0.9921)\n",
            "tensor(0.9922)\n",
            "tensor(0.9921)\n",
            "tensor(0.9921)\n",
            "tensor(0.9922)\n",
            "tensor(0.9922)\n",
            "tensor(0.9922)\n",
            "tensor(0.9922)\n",
            "tensor(0.9922)\n",
            "tensor(0.9922)\n",
            "tensor(0.9922)\n",
            "tensor(0.9922)\n",
            "tensor(0.9922)\n",
            "tensor(0.9922)\n",
            "tensor(0.9922)\n",
            "tensor(0.9922)\n",
            "tensor(0.9922)\n",
            "tensor(0.9922)\n",
            "tensor(0.9922)\n",
            "tensor(0.9922)\n",
            "tensor(0.9922)\n",
            "tensor(0.9922)\n",
            "tensor(0.9922)\n",
            "tensor(0.9923)\n",
            "tensor(0.9923)\n",
            "tensor(0.9923)\n",
            "tensor(0.9923)\n",
            "tensor(0.9923)\n",
            "tensor(0.9923)\n",
            "tensor(0.9923)\n",
            "tensor(0.9923)\n",
            "tensor(0.9923)\n",
            "tensor(0.9923)\n",
            "tensor(0.9923)\n",
            "tensor(0.9923)\n",
            "tensor(0.9923)\n",
            "tensor(0.9923)\n",
            "tensor(0.9923)\n",
            "tensor(0.9923)\n",
            "tensor(0.9923)\n",
            "tensor(0.9923)\n",
            "tensor(0.9923)\n",
            "tensor(0.9923)\n",
            "tensor(0.9923)\n",
            "tensor(0.9923)\n",
            "tensor(0.9923)\n",
            "tensor(0.9923)\n"
          ],
          "name": "stdout"
        }
      ]
    },
    {
      "cell_type": "code",
      "metadata": {
        "colab_type": "code",
        "id": "H4hjogO8NZfS",
        "outputId": "dcc68323-fa57-446c-9035-b34511ee1433",
        "colab": {
          "base_uri": "https://localhost:8080/",
          "height": 150
        }
      },
      "source": [
        "lenet5.forward(X_test)"
      ],
      "execution_count": 13,
      "outputs": [
        {
          "output_type": "execute_result",
          "data": {
            "text/plain": [
              "tensor([[-12.3365,  14.1980,  -7.5757,  ...,  66.7297, -12.3091,   9.1230],\n",
              "        [ -0.7426,   3.5881,  51.4069,  ...,   3.4043,  -5.1096, -19.6196],\n",
              "        [-13.6881,  36.4282, -11.4800,  ...,  -2.1898,   2.7493,  -4.1782],\n",
              "        ...,\n",
              "        [-22.5051,   9.7310, -16.7459,  ..., -10.5712,  17.2566,   7.2256],\n",
              "        [  3.2114, -11.7596, -24.9395,  ..., -18.8247,  30.5954,   4.2268],\n",
              "        [ -5.7444,  -6.2928,   1.3632,  ..., -33.5344,  -0.3511, -12.8530]],\n",
              "       device='cuda:0', grad_fn=<AddmmBackward>)"
            ]
          },
          "metadata": {
            "tags": []
          },
          "execution_count": 13
        }
      ]
    },
    {
      "cell_type": "code",
      "metadata": {
        "colab_type": "code",
        "id": "4FDtagQvNZfU",
        "outputId": "48bd2c94-fb92-45fe-a406-67b050cbd7e7",
        "colab": {
          "base_uri": "https://localhost:8080/",
          "height": 265
        }
      },
      "source": [
        "# plt.plot(test_accuracy_history);\n",
        "plt.plot(test_loss_history, label='Test')\n",
        "plt.plot(train_loss_history, label='Train')\n",
        "plt.legend()\n",
        "plt.grid();"
      ],
      "execution_count": 14,
      "outputs": [
        {
          "output_type": "display_data",
          "data": {
            "image/png": "[encoded data removed]",
            "text/plain": [
              "<Figure size 432x288 with 1 Axes>"
            ]
          },
          "metadata": {
            "tags": []
          }
        }
      ]
    },
    {
      "cell_type": "code",
      "metadata": {
        "colab_type": "code",
        "id": "vta37dlSNZfZ",
        "outputId": "42fc6c41-f012-4e38-8e15-f52b020c4f2e",
        "colab": {
          "base_uri": "https://localhost:8080/",
          "height": 265
        }
      },
      "source": [
        "# plt.plot(test_accuracy_history);\n",
        "plt.plot(test_accuracy_history, label='Test')\n",
        "plt.plot(train_accuracy_history, label='Train')\n",
        "plt.legend()\n",
        "plt.grid();"
      ],
      "execution_count": 15,
      "outputs": [
        {
          "output_type": "display_data",
          "data": {
            "image/png": "[encoded data removed]",
            "text/plain": [
              "<Figure size 432x288 with 1 Axes>"
            ]
          },
          "metadata": {
            "tags": []
          }
        }
      ]
    }
  ]
}