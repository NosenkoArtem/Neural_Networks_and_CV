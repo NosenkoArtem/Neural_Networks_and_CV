{
  "nbformat": 4,
  "nbformat_minor": 0,
  "metadata": {
    "accelerator": "GPU",
    "colab": {
      "name": "Copy of Lesson 6 Digits Recognition Convolutional Video.ipynb",
      "provenance": [],
      "collapsed_sections": [],
      "include_colab_link": true
    },
    "kernelspec": {
      "display_name": "Python 3",
      "language": "python",
      "name": "python3"
    },
    "language_info": {
      "codemirror_mode": {
        "name": "ipython",
        "version": 3
      },
      "file_extension": ".py",
      "mimetype": "text/x-python",
      "name": "python",
      "nbconvert_exporter": "python",
      "pygments_lexer": "ipython3",
      "version": "3.6.8"
    }
  },
  "cells": [
    {
      "cell_type": "markdown",
      "metadata": {
        "id": "view-in-github",
        "colab_type": "text"
      },
      "source": [
        "<a href=\"https://colab.research.google.com/github/NosenkoArtem/Neural_Networks_and_CV/blob/master/Copy_of_Lesson_6_Digits_Recognition_Convolutional_Video.ipynb\" target=\"_parent\"><img src=\"https://colab.research.google.com/assets/colab-badge.svg\" alt=\"Open In Colab\"/></a>"
      ]
    },
    {
      "cell_type": "markdown",
      "metadata": {
        "colab_type": "text",
        "id": "cdjn6pICZMoM"
      },
      "source": [
        "![alt text](https://engmrk.com/wp-content/uploads/2018/09/LeNet_Original_Image.jpg)"
      ]
    },
    {
      "cell_type": "markdown",
      "metadata": {
        "colab_type": "text",
        "id": "14icu4JgZXqM"
      },
      "source": [
        "![alt text](https://engmrk.com/wp-content/uploads/2018/09/LeNEt_Summary_Table.jpg)"
      ]
    },
    {
      "cell_type": "code",
      "metadata": {
        "colab_type": "code",
        "id": "85_HkTjcNZeg",
        "colab": {}
      },
      "source": [
        "import torch\n",
        "import random\n",
        "import numpy as np\n",
        "\n",
        "random.seed(0)\n",
        "np.random.seed(0)\n",
        "torch.manual_seed(0)\n",
        "torch.cuda.manual_seed(0)\n",
        "torch.backends.cudnn.deterministic = True"
      ],
      "execution_count": 0,
      "outputs": []
    },
    {
      "cell_type": "code",
      "metadata": {
        "colab_type": "code",
        "id": "kjPVw9UfNZel",
        "colab": {}
      },
      "source": [
        "import torchvision.datasets"
      ],
      "execution_count": 0,
      "outputs": []
    },
    {
      "cell_type": "code",
      "metadata": {
        "colab_type": "code",
        "id": "buWKcUqGNZeo",
        "colab": {}
      },
      "source": [
        "MNIST_train = torchvision.datasets.MNIST('./', download=True, train=True)\n",
        "MNIST_test = torchvision.datasets.MNIST('./', download=True, train=False)\n"
      ],
      "execution_count": 0,
      "outputs": []
    },
    {
      "cell_type": "code",
      "metadata": {
        "colab_type": "code",
        "id": "nyrpGOtPNZeq",
        "outputId": "f62a8f3a-f520-4f9a-a362-b7d16b54e57d",
        "colab": {
          "base_uri": "https://localhost:8080/",
          "height": 150
        }
      },
      "source": [
        "X_train = MNIST_train.train_data\n",
        "y_train = MNIST_train.train_labels\n",
        "X_test = MNIST_test.test_data\n",
        "y_test = MNIST_test.test_labels"
      ],
      "execution_count": 4,
      "outputs": [
        {
          "output_type": "stream",
          "text": [
            "/usr/local/lib/python3.6/dist-packages/torchvision/datasets/mnist.py:55: UserWarning: train_data has been renamed data\n",
            "  warnings.warn(\"train_data has been renamed data\")\n",
            "/usr/local/lib/python3.6/dist-packages/torchvision/datasets/mnist.py:45: UserWarning: train_labels has been renamed targets\n",
            "  warnings.warn(\"train_labels has been renamed targets\")\n",
            "/usr/local/lib/python3.6/dist-packages/torchvision/datasets/mnist.py:60: UserWarning: test_data has been renamed data\n",
            "  warnings.warn(\"test_data has been renamed data\")\n",
            "/usr/local/lib/python3.6/dist-packages/torchvision/datasets/mnist.py:50: UserWarning: test_labels has been renamed targets\n",
            "  warnings.warn(\"test_labels has been renamed targets\")\n"
          ],
          "name": "stderr"
        }
      ]
    },
    {
      "cell_type": "code",
      "metadata": {
        "colab_type": "code",
        "id": "f_TmOTWdNZet",
        "outputId": "bcbbc293-2a06-458a-df59-06dd96f0ef09",
        "colab": {
          "base_uri": "https://localhost:8080/",
          "height": 33
        }
      },
      "source": [
        "len(y_train), len(y_test)"
      ],
      "execution_count": 5,
      "outputs": [
        {
          "output_type": "execute_result",
          "data": {
            "text/plain": [
              "(60000, 10000)"
            ]
          },
          "metadata": {
            "tags": []
          },
          "execution_count": 5
        }
      ]
    },
    {
      "cell_type": "code",
      "metadata": {
        "colab_type": "code",
        "id": "Zd-E4vIpNZe1",
        "outputId": "2dc15e71-38be-4651-8edb-c2e7c0631f99",
        "colab": {
          "base_uri": "https://localhost:8080/",
          "height": 282
        }
      },
      "source": [
        "import matplotlib.pyplot as plt\n",
        "plt.imshow(X_train[0, :, :])\n",
        "plt.show()\n",
        "print(y_train[0])"
      ],
      "execution_count": 6,
      "outputs": [
        {
          "output_type": "display_data",
          "data": {
            "image/png": "[encoded data removed]",
            "text/plain": [
              "<Figure size 432x288 with 1 Axes>"
            ]
          },
          "metadata": {
            "tags": []
          }
        },
        {
          "output_type": "stream",
          "text": [
            "tensor(5)\n"
          ],
          "name": "stdout"
        }
      ]
    },
    {
      "cell_type": "code",
      "metadata": {
        "colab_type": "code",
        "id": "Tf9LiDGuNZe6",
        "colab": {}
      },
      "source": [
        "X_train = X_train.unsqueeze(1).float()\n",
        "X_test = X_test.unsqueeze(1).float()"
      ],
      "execution_count": 0,
      "outputs": []
    },
    {
      "cell_type": "code",
      "metadata": {
        "colab_type": "code",
        "id": "kxKAhEYHNZe-",
        "outputId": "69a3b266-2a7c-44f8-dbc6-909c671deab8",
        "colab": {
          "base_uri": "https://localhost:8080/",
          "height": 33
        }
      },
      "source": [
        "X_train.shape"
      ],
      "execution_count": 8,
      "outputs": [
        {
          "output_type": "execute_result",
          "data": {
            "text/plain": [
              "torch.Size([60000, 1, 28, 28])"
            ]
          },
          "metadata": {
            "tags": []
          },
          "execution_count": 8
        }
      ]
    },
    {
      "cell_type": "code",
      "metadata": {
        "colab_type": "code",
        "id": "xhsw9soDODel",
        "colab": {}
      },
      "source": [
        "class LeNet5(torch.nn.Module):\n",
        "    def __init__(self):\n",
        "        super(LeNet5, self).__init__()\n",
        "        \n",
        "        self.conv1 = torch.nn.Conv2d(\n",
        "            in_channels=1, out_channels=6, kernel_size=5, padding=2)\n",
        "        self.act1  = torch.nn.Tanh()\n",
        "        self.pool1 = torch.nn.AvgPool2d(kernel_size=2, stride=2)\n",
        "       \n",
        "        self.conv2 = torch.nn.Conv2d(\n",
        "            in_channels=6, out_channels=16, kernel_size=5, padding=0)\n",
        "        self.act2  = torch.nn.Tanh()\n",
        "        self.pool2 = torch.nn.AvgPool2d(kernel_size=2, stride=2)\n",
        "        \n",
        "        self.fc1   = torch.nn.Linear(5 * 5 * 16, 120)\n",
        "        self.act3  = torch.nn.Tanh()\n",
        "        \n",
        "        self.fc2   = torch.nn.Linear(120, 84)\n",
        "        self.act4  = torch.nn.Tanh()\n",
        "        \n",
        "        self.fc3   = torch.nn.Linear(84, 10)\n",
        "    \n",
        "    def forward(self, x):\n",
        "        \n",
        "        x = self.conv1(x)\n",
        "        x = self.act1(x)\n",
        "        x = self.pool1(x)\n",
        "        \n",
        "        x = self.conv2(x)\n",
        "        x = self.act2(x)\n",
        "        x = self.pool2(x)\n",
        "        \n",
        "        x = x.view(x.size(0), x.size(1) * x.size(2) * x.size(3))\n",
        "\n",
        "        x = self.fc1(x)\n",
        "        x = self.act3(x)\n",
        "        x = self.fc2(x)\n",
        "        x = self.act4(x)\n",
        "        x = self.fc3(x)\n",
        "        \n",
        "        return x\n",
        "    \n",
        "lenet5 = LeNet5()"
      ],
      "execution_count": 0,
      "outputs": []
    },
    {
      "cell_type": "code",
      "metadata": {
        "colab_type": "code",
        "id": "qT-PsO7VNZfB",
        "colab": {}
      },
      "source": [
        "device = torch.device('cuda:0' if torch.cuda.is_available() else 'cpu')\n",
        "lenet5 = lenet5.to(device)"
      ],
      "execution_count": 0,
      "outputs": []
    },
    {
      "cell_type": "code",
      "metadata": {
        "colab_type": "code",
        "id": "rkK0kv1VNZfL",
        "colab": {}
      },
      "source": [
        "loss = torch.nn.CrossEntropyLoss()\n",
        "optimizer = torch.optim.SGD(lenet5.parameters(), lr=5.0e-4, momentum=0.7)\n",
        "scheduler = torch.optim.lr_scheduler.CyclicLR(optimizer, base_lr=0.001, max_lr=0.1, mode='exp_range')"
      ],
      "execution_count": 0,
      "outputs": []
    },
    {
      "cell_type": "code",
      "metadata": {
        "colab_type": "code",
        "id": "XfA9gqSdNZfQ",
        "outputId": "f1f10e67-680d-4464-ebfe-c1c5f841a6c4",
        "colab": {
          "base_uri": "https://localhost:8080/",
          "height": 1000
        }
      },
      "source": [
        "batch_size = 800\n",
        "\n",
        "train_accuracy_history = []\n",
        "train_loss_history = []\n",
        "\n",
        "test_accuracy_history = []\n",
        "test_loss_history = []\n",
        "\n",
        "X_train = X_train.to(device)\n",
        "y_train = y_train.to(device)\n",
        "\n",
        "X_test = X_test.to(device)\n",
        "y_test = y_test.to(device)\n",
        "\n",
        "for epoch in range(160):\n",
        "    order = np.random.permutation(len(X_train))\n",
        "    for start_index in range(0, len(X_train), batch_size):\n",
        "        optimizer.zero_grad()\n",
        "        \n",
        "        batch_indexes = order[start_index:start_index+batch_size]\n",
        "        \n",
        "        X_batch = X_train[batch_indexes].to(device)\n",
        "        y_batch = y_train[batch_indexes].to(device)\n",
        "        \n",
        "        preds = lenet5.forward(X_batch) \n",
        "        \n",
        "        loss_value = loss(preds, y_batch)\n",
        "        loss_value.backward()\n",
        "\n",
        "        optimizer.step()\n",
        "        scheduler.step()\n",
        "\n",
        "    train_preds = lenet5.forward(X_train)\n",
        "    train_loss_history.append(loss(train_preds, y_train).data.cpu())\n",
        "\n",
        "    test_preds = lenet5.forward(X_test)\n",
        "    test_loss_history.append(loss(test_preds, y_test).data.cpu())\n",
        "    \n",
        "    accuracy = (train_preds.argmax(dim=1) == y_train).float().mean().data.cpu()\n",
        "    train_accuracy_history.append(accuracy)\n",
        "\n",
        "    accuracy = (test_preds.argmax(dim=1) == y_test).float().mean().data.cpu()\n",
        "    test_accuracy_history.append(accuracy)\n",
        "    \n",
        "    print(accuracy)"
      ],
      "execution_count": 12,
      "outputs": [
        {
          "output_type": "stream",
          "text": [
            "tensor(0.6061)\n",
            "tensor(0.7730)\n",
            "tensor(0.8932)\n",
            "tensor(0.9295)\n",
            "tensor(0.9471)\n",
            "tensor(0.9606)\n",
            "tensor(0.9692)\n",
            "tensor(0.9749)\n",
            "tensor(0.9761)\n",
            "tensor(0.9800)\n",
            "tensor(0.9819)\n",
            "tensor(0.9827)\n",
            "tensor(0.9834)\n",
            "tensor(0.9852)\n",
            "tensor(0.9834)\n",
            "tensor(0.9867)\n",
            "tensor(0.9869)\n",
            "tensor(0.9873)\n",
            "tensor(0.9878)\n",
            "tensor(0.9857)\n",
            "tensor(0.9879)\n",
            "tensor(0.9892)\n",
            "tensor(0.9890)\n",
            "tensor(0.9873)\n",
            "tensor(0.9894)\n",
            "tensor(0.9897)\n",
            "tensor(0.9888)\n",
            "tensor(0.9900)\n",
            "tensor(0.9906)\n",
            "tensor(0.9906)\n",
            "tensor(0.9905)\n",
            "tensor(0.9910)\n",
            "tensor(0.9909)\n",
            "tensor(0.9907)\n",
            "tensor(0.9911)\n",
            "tensor(0.9921)\n",
            "tensor(0.9916)\n",
            "tensor(0.9915)\n",
            "tensor(0.9921)\n",
            "tensor(0.9912)\n",
            "tensor(0.9916)\n",
            "tensor(0.9922)\n",
            "tensor(0.9916)\n",
            "tensor(0.9917)\n",
            "tensor(0.9919)\n",
            "tensor(0.9922)\n",
            "tensor(0.9920)\n",
            "tensor(0.9919)\n",
            "tensor(0.9919)\n",
            "tensor(0.9917)\n",
            "tensor(0.9921)\n",
            "tensor(0.9925)\n",
            "tensor(0.9925)\n",
            "tensor(0.9925)\n",
            "tensor(0.9924)\n",
            "tensor(0.9925)\n",
            "tensor(0.9924)\n",
            "tensor(0.9921)\n",
            "tensor(0.9922)\n",
            "tensor(0.9922)\n",
            "tensor(0.9921)\n",
            "tensor(0.9924)\n",
            "tensor(0.9919)\n",
            "tensor(0.9921)\n",
            "tensor(0.9920)\n",
            "tensor(0.9926)\n",
            "tensor(0.9923)\n",
            "tensor(0.9926)\n",
            "tensor(0.9926)\n",
            "tensor(0.9915)\n",
            "tensor(0.9917)\n",
            "tensor(0.9920)\n",
            "tensor(0.9911)\n",
            "tensor(0.9916)\n",
            "tensor(0.9906)\n",
            "tensor(0.9917)\n",
            "tensor(0.9922)\n",
            "tensor(0.9915)\n",
            "tensor(0.9915)\n",
            "tensor(0.9921)\n",
            "tensor(0.9912)\n",
            "tensor(0.9911)\n",
            "tensor(0.9913)\n",
            "tensor(0.9917)\n",
            "tensor(0.9911)\n",
            "tensor(0.9916)\n",
            "tensor(0.9924)\n",
            "tensor(0.9911)\n",
            "tensor(0.9916)\n",
            "tensor(0.9915)\n",
            "tensor(0.9915)\n",
            "tensor(0.9919)\n",
            "tensor(0.9916)\n",
            "tensor(0.9916)\n",
            "tensor(0.9919)\n",
            "tensor(0.9914)\n",
            "tensor(0.9923)\n",
            "tensor(0.9925)\n",
            "tensor(0.9916)\n",
            "tensor(0.9915)\n",
            "tensor(0.9921)\n",
            "tensor(0.9921)\n",
            "tensor(0.9923)\n",
            "tensor(0.9923)\n",
            "tensor(0.9920)\n",
            "tensor(0.9921)\n",
            "tensor(0.9921)\n",
            "tensor(0.9922)\n",
            "tensor(0.9922)\n",
            "tensor(0.9922)\n",
            "tensor(0.9924)\n",
            "tensor(0.9923)\n",
            "tensor(0.9918)\n",
            "tensor(0.9922)\n",
            "tensor(0.9923)\n",
            "tensor(0.9922)\n",
            "tensor(0.9914)\n",
            "tensor(0.9916)\n",
            "tensor(0.9923)\n",
            "tensor(0.9922)\n",
            "tensor(0.9916)\n",
            "tensor(0.9920)\n",
            "tensor(0.9921)\n",
            "tensor(0.9918)\n",
            "tensor(0.9919)\n",
            "tensor(0.9924)\n",
            "tensor(0.9915)\n",
            "tensor(0.9914)\n",
            "tensor(0.9922)\n",
            "tensor(0.9912)\n",
            "tensor(0.9917)\n",
            "tensor(0.9920)\n",
            "tensor(0.9920)\n",
            "tensor(0.9923)\n",
            "tensor(0.9912)\n",
            "tensor(0.9919)\n",
            "tensor(0.9918)\n",
            "tensor(0.9919)\n",
            "tensor(0.9918)\n",
            "tensor(0.9916)\n",
            "tensor(0.9917)\n",
            "tensor(0.9917)\n",
            "tensor(0.9920)\n",
            "tensor(0.9918)\n",
            "tensor(0.9920)\n",
            "tensor(0.9917)\n",
            "tensor(0.9920)\n",
            "tensor(0.9918)\n",
            "tensor(0.9922)\n",
            "tensor(0.9920)\n",
            "tensor(0.9920)\n",
            "tensor(0.9923)\n",
            "tensor(0.9918)\n",
            "tensor(0.9922)\n",
            "tensor(0.9920)\n",
            "tensor(0.9920)\n",
            "tensor(0.9922)\n",
            "tensor(0.9921)\n",
            "tensor(0.9921)\n",
            "tensor(0.9923)\n"
          ],
          "name": "stdout"
        }
      ]
    },
    {
      "cell_type": "code",
      "metadata": {
        "colab_type": "code",
        "id": "H4hjogO8NZfS",
        "outputId": "99173982-68bf-4d59-8d64-d83f139bb620",
        "colab": {
          "base_uri": "https://localhost:8080/",
          "height": 150
        }
      },
      "source": [
        "lenet5.forward(X_test)"
      ],
      "execution_count": 13,
      "outputs": [
        {
          "output_type": "execute_result",
          "data": {
            "text/plain": [
              "tensor([[ -0.5165,   1.8338,  -1.8767,  ...,  18.4502,  -5.4180,   2.8045],\n",
              "        [  4.6222,   0.9426,  17.9727,  ...,  -2.3271,   0.1275,  -5.1439],\n",
              "        [ -2.6457,  17.0389,  -1.4546,  ...,   2.9810,  -1.4016,  -7.1487],\n",
              "        ...,\n",
              "        [ -4.4453,  -0.7820,  -7.2784,  ...,   1.3717,   3.3378,   1.0037],\n",
              "        [ -1.8563,  -2.2883,  -7.3922,  ...,  -6.4760,   5.5857,  -3.6515],\n",
              "        [  0.4763,  -1.6700,   1.8163,  ..., -12.0454,   1.0115,  -7.7433]],\n",
              "       device='cuda:0', grad_fn=<AddmmBackward>)"
            ]
          },
          "metadata": {
            "tags": []
          },
          "execution_count": 13
        }
      ]
    },
    {
      "cell_type": "code",
      "metadata": {
        "colab_type": "code",
        "id": "4FDtagQvNZfU",
        "outputId": "06719c2d-4b75-4b61-f4a8-47ffa1b32051",
        "colab": {
          "base_uri": "https://localhost:8080/",
          "height": 265
        }
      },
      "source": [
        "# plt.plot(test_accuracy_history);\n",
        "plt.plot(test_loss_history, label='Test')\n",
        "plt.plot(train_loss_history, label='Train')\n",
        "plt.legend()\n",
        "plt.grid();"
      ],
      "execution_count": 14,
      "outputs": [
        {
          "output_type": "display_data",
          "data": {
            "image/png": "[encoded data removed]",
            "text/plain": [
              "<Figure size 432x288 with 1 Axes>"
            ]
          },
          "metadata": {
            "tags": []
          }
        }
      ]
    },
    {
      "cell_type": "code",
      "metadata": {
        "colab_type": "code",
        "id": "vta37dlSNZfZ",
        "outputId": "83deed0f-a717-4095-e96c-b987df9b3358",
        "colab": {
          "base_uri": "https://localhost:8080/",
          "height": 265
        }
      },
      "source": [
        "# plt.plot(test_accuracy_history);\n",
        "plt.plot(test_accuracy_history, label='Test')\n",
        "plt.plot(train_accuracy_history, label='Train')\n",
        "plt.legend()\n",
        "plt.grid();"
      ],
      "execution_count": 15,
      "outputs": [
        {
          "output_type": "display_data",
          "data": {
            "image/png": "[encoded data removed]",
            "text/plain": [
              "<Figure size 432x288 with 1 Axes>"
            ]
          },
          "metadata": {
            "tags": []
          }
        }
      ]
    }
  ]
}